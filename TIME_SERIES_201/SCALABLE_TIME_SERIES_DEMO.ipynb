{
 "metadata": {
  "kernelspec": {
   "display_name": "Streamlit Notebook",
   "name": "streamlit"
  },
  "lastEditStatus": {
   "notebookId": "saqmbfivvnckzrusgw6y",
   "authorId": "322325853055",
   "authorName": "CROMANO",
   "authorEmail": "chase.romano@snowflake.com",
   "sessionId": "9beb6ecf-7a91-48b5-8780-1a532fed0e54",
   "lastEditTime": 1748362365004
  }
 },
 "nbformat_minor": 5,
 "nbformat": 4,
 "cells": [
  {
   "cell_type": "markdown",
   "id": "43e93256-1b79-4113-bb03-139be8a962eb",
   "metadata": {
    "name": "md",
    "collapsed": false
   },
   "source": "# Time Series Forecasting Demo Setup\n\nThis document outlines the initial setup required to run the [Time Series Forecasting Demo on Snowflake](https://quickstarts.snowflake.com/guide/building_scalable_time_series_forecasting_models_on_snowflake/index.html#0).\n\n## Overview\n\nThe purpose of this demo is to build scalable time series forecasting models directly within Snowflake using Python and Snowpark. This setup notebook:\n\n- loads sample time series data\n- Creates the necessary database objects (e.g., database, schema, stage)\n- Loads the zip file that is required for the demo\n\n## Next Steps\n\nOnce the setup notebook is complete, you can proceed to the model training and forecasting notebook of the [Repo](https://github.com/Snowflake-Labs/emerging-solutions-toolbox/blob/main/framework-forecast-model-builder/FORECAST_MODEL_BUILDER_DEPLOYMENT.ipynb?_fsi=jaVNHjij&_fsi=jaVNHjij&_fsi=jaVNHjij&_fsi=jaVNHjij).\n\n---\n\n"
  },
  {
   "cell_type": "markdown",
   "id": "4f665486-f3d8-46be-87c5-22e83ecec530",
   "metadata": {
    "name": "lddata",
    "collapsed": false
   },
   "source": "### Load data"
  },
  {
   "cell_type": "code",
   "id": "3775908f-ca36-4846-8f38-5adca39217f2",
   "metadata": {
    "language": "python",
    "name": "imports"
   },
   "source": "# Import python packages\nimport streamlit as st\nimport pandas as pd\n\n# We can also use Snowpark for our analyses!\nfrom snowflake.snowpark.context import get_active_session\nsession = get_active_session()\n",
   "execution_count": null,
   "outputs": []
  },
  {
   "cell_type": "code",
   "id": "c695373e-ac74-4b62-a1f1-08206cbd5c81",
   "metadata": {
    "language": "python",
    "name": "load_data"
   },
   "source": "ts_data = pd.read_csv('data/tasty_bytes_ts_data.csv')\nts_data.head()",
   "execution_count": null,
   "outputs": []
  },
  {
   "cell_type": "code",
   "id": "f80e51a4-2cad-4871-a245-390e469deab2",
   "metadata": {
    "language": "python",
    "name": "write_to_snow"
   },
   "outputs": [],
   "source": "ts_sf = session.create_dataframe(ts_data)\nts_sf.write.mode(\"overwrite\").save_as_table(\"tasty_bytes_sales\")",
   "execution_count": null
  },
  {
   "cell_type": "code",
   "id": "1063a089-016e-44a3-80ec-b9a00588a91f",
   "metadata": {
    "language": "sql",
    "name": "query_the_data"
   },
   "outputs": [],
   "source": "select * from tasty_bytes_sales\nlimit 10;",
   "execution_count": null
  },
  {
   "cell_type": "markdown",
   "id": "03f9db33-42d4-4896-b0ca-9156cc53bc65",
   "metadata": {
    "name": "createstage",
    "collapsed": false
   },
   "source": "###  Create the stage for the zip file\n\nThis step can be done in the UI but this is for a faster approach"
  },
  {
   "cell_type": "code",
   "id": "accb57a6-a054-4b22-8140-bc14c04eea53",
   "metadata": {
    "language": "sql",
    "name": "create_stage"
   },
   "outputs": [],
   "source": "-- If needed create a stage\n-- If you already have a stage use that one\n\nCREATE STAGE if not exists SALES_DATA \n\tDIRECTORY = ( ENABLE = true ) \n\tENCRYPTION = ( TYPE = 'SNOWFLAKE_SSE' );",
   "execution_count": null
  },
  {
   "cell_type": "markdown",
   "id": "38f2f444-9605-48ac-8ef6-3a9bb77d0631",
   "metadata": {
    "name": "loadzip",
    "collapsed": false
   },
   "source": "### Load zip file to the stage"
  },
  {
   "cell_type": "code",
   "id": "91c35b2e-a22b-4e33-93bb-c60d10631d8b",
   "metadata": {
    "language": "python",
    "name": "put_zip_in_stage"
   },
   "outputs": [],
   "source": "MY_STAGE = 'SALES_DATA'\nMY_FILE_NAME = \"data/emerging-solutions-toolbox-main.zip\"\n\n\n# Upload the file to a stage.\nput_result = session.file.put(MY_FILE_NAME, MY_STAGE, auto_compress=False,overwrite=True)\nput_result[0].status",
   "execution_count": null
  }
 ]
}